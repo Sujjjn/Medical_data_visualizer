{
 "cells": [
  {
   "cell_type": "code",
   "execution_count": null,
   "id": "de7824bf",
   "metadata": {},
   "outputs": [],
   "source": [
    "import unittest\n",
    "import medical_data_visualizer\n",
    "import matplotlib as mpl\n",
    "\n",
    "\n",
    "# the test case\n",
    "class CatPlotTestCase(unittest.TestCase):\n",
    "    def setUp(self):\n",
    "        self.fig = medical_data_visualizer.draw_cat_plot()\n",
    "        self.ax = self.fig.axes[0]\n",
    "    \n",
    "    def test_line_plot_labels(self):\n",
    "        actual = self.ax.get_xlabel()\n",
    "        expected = \"variable\"\n",
    "        self.assertEqual(actual, expected, \"Expected line plot xlabel to be 'variable'\")\n",
    "        actual = self.ax.get_ylabel()\n",
    "        expected = \"total\"\n",
    "        self.assertEqual(actual, expected, \"Expected line plot ylabel to be 'total'\")\n",
    "        actual = []\n",
    "        for label in self.ax.get_xaxis().get_majorticklabels():\n",
    "            actual.append(label.get_text())\n",
    "        expected = ['active', 'alco', 'cholesterol', 'gluc', 'overweight', 'smoke']\n",
    "        self.assertEqual(actual, expected, \"Expected bar plot secondary x labels to be 'active', 'alco', 'cholesterol', 'gluc', 'overweight', 'smoke'\")\n",
    "\n",
    "    def test_bar_plot_number_of_bars(self):\n",
    "        actual = len([rect for rect in self.ax.get_children() if isinstance(rect, mpl.patches.Rectangle)])\n",
    "        expected = 13\n",
    "        self.assertEqual(actual, expected, \"Expected a different number of bars chart.\")\n",
    "\n",
    "\n",
    "class HeatMapTestCase(unittest.TestCase):\n",
    "    def setUp(self):\n",
    "        self.fig = medical_data_visualizer.draw_heat_map()\n",
    "        self.ax = self.fig.axes[0]\n",
    "\n",
    "    def test_heat_map_labels(self):\n",
    "        actual = []\n",
    "        for label in self.ax.get_xticklabels():\n",
    "          actual.append(label.get_text())\n",
    "        expected = ['id', 'age', 'sex', 'height', 'weight', 'ap_hi', 'ap_lo', 'cholesterol', 'gluc', 'smoke', 'alco', 'active', 'cardio', 'overweight']\n",
    "        self.assertEqual(actual, expected, \"Expected heat map labels to be 'id', 'age', 'sex', 'height', 'weight', 'ap_hi', 'ap_lo', 'cholesterol', 'gluc', 'smoke', 'alco', 'active', 'cardio', 'overweight'.\")\n",
    "    \n",
    "    def test_heat_map_values(self):\n",
    "        actual = [text.get_text() for text in self.ax.get_default_bbox_extra_artists() if isinstance(text, mpl.text.Text)]\n",
    "        print(actual)\n",
    "        expected = ['0.0', '0.0', '-0.0', '0.0', '-0.1', '0.5', '0.0', '0.1', '0.1', '0.3', '0.0', '0.0', '0.0', '0.0', '0.0', '0.0', '0.2', '0.1', '0.0', '0.2', '0.1', '0.0', '0.1', '-0.0', '-0.1', '0.1', '0.0', '0.2', '0.0', '0.1', '-0.0', '-0.0', '0.1', '0.0', '0.1', '0.4', '-0.0', '-0.0', '0.3', '0.2', '0.1', '-0.0', '0.0', '0.0', '-0.0', '-0.0', '-0.0', '0.2', '0.1', '0.1', '0.0', '0.0', '0.0', '0.0', '0.3', '0.0', '-0.0', '0.0', '-0.0', '-0.0', '-0.0', '0.0', '0.0', '-0.0', '0.0', '0.0', '0.0', '0.2', '0.0', '-0.0', '0.2', '0.1', '0.3', '0.2', '0.1', '-0.0', '-0.0', '-0.0', '-0.0', '0.1', '-0.1', '-0.1', '0.7', '0.0', '0.2', '0.1', '0.1', '-0.0', '0.0', '-0.0', '0.1']\n",
    "        self.assertEqual(actual, expected, \"Expected different values in heat map.\")\n",
    "\n",
    "if __name__ == \"__main__\":\n",
    "    unittest.main()\n"
   ]
  }
 ],
 "metadata": {
  "kernelspec": {
   "display_name": "Python 3 (ipykernel)",
   "language": "python",
   "name": "python3"
  },
  "language_info": {
   "codemirror_mode": {
    "name": "ipython",
    "version": 3
   },
   "file_extension": ".py",
   "mimetype": "text/x-python",
   "name": "python",
   "nbconvert_exporter": "python",
   "pygments_lexer": "ipython3",
   "version": "3.11.5"
  }
 },
 "nbformat": 4,
 "nbformat_minor": 5
}
